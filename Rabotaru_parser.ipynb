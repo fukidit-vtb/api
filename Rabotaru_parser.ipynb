{
 "cells": [
  {
   "cell_type": "code",
   "execution_count": 57,
   "id": "a4189e39",
   "metadata": {},
   "outputs": [],
   "source": [
    "import numpy as np\n",
    "import requests\n",
    "from bs4 import BeautifulSoup\n",
    "import pandas as pd\n",
    "import time\n",
    "import random\n",
    "import json\n",
    "import urllib\n",
    "from tqdm import tqdm\n",
    "import pickle\n",
    "\n",
    "\n",
    "from datetime import datetime\n",
    "from selenium.webdriver.common.action_chains import ActionChains\n",
    "from selenium import webdriver\n",
    "from selenium.webdriver.common.keys import Keys\n",
    "from selenium.common.exceptions import NoSuchElementException\n",
    "from selenium.common.exceptions import StaleElementReferenceException\n",
    "from selenium.webdriver.firefox.options import Options as FirefoxOptions\n",
    "from selenium.webdriver.chrome.options import Options as ChromeOptions"
   ]
  },
  {
   "cell_type": "code",
   "execution_count": 8,
   "id": "fcfc0d5d",
   "metadata": {},
   "outputs": [
    {
     "name": "stdout",
     "output_type": "stream",
     "text": [
      "accept: application/json, text/plain, */*\n",
      "accept-encoding: gzip, deflate, br\n",
      "accept-language: ru-RU,ru;q=0.9,en-US;q=0.8,en;q=0.7\n",
      "content-length: 130\n",
      "content-type: application/json;charset=UTF-8\n",
      "cookie: _ym_uid=1665222042863863336; _ym_d=1665222042; adtech_uid=afa4c7bb-afe2-4a1d-a306-8d4f9953d911%3Arabota.ru; top100_id=t1.7512535.2053263024.1665222041970; _ym_isad=1; _ym_visorc=w; last_visit=1665200781974%3A%3A1665222381974; t3_sid_7512535=s1.1102837621.1665222041973.1665222911121.1.50.50.1; qrator_ssid=1665222929.528.r8HuyRr53OmUoDKf-mcpatvl714d6785lsceiu9huge5pnf6v\n",
      "origin: https://prosto.rabota.ru\n",
      "referer: https://prosto.rabota.ru/category/news\n",
      "sec-ch-ua: \"Google Chrome\";v=\"105\", \"Not)A;Brand\";v=\"8\", \"Chromium\";v=\"105\"\n",
      "sec-ch-ua-mobile: ?0\n",
      "sec-ch-ua-platform: \"Linux\"\n",
      "sec-fetch-dest: empty\n",
      "sec-fetch-mode: cors\n",
      "sec-fetch-site: same-origin\n",
      "user-agent: Mozilla/5.0 (X11; Linux x86_64) AppleWebKit/537.36 (KHTML, like Gecko) Chrome/105.0.0.0 Safari/537.36\n"
     ]
    }
   ],
   "source": [
    "data = {\"request\":{\"filters\":{\"tags\":{\"slugs\":[\"novosti\"],\"comparison_type\":\"and\"}},\"limit\":12,\"offset\":36},\"request_id\":83345806,\"application_id\":19}\n",
    "data"
   ]
  },
  {
   "cell_type": "code",
   "execution_count": null,
   "id": "7067cd3a",
   "metadata": {},
   "outputs": [],
   "source": [
    "req = requests.post('Request URL: https://prosto.rabota.ru/api-web/v4/blog/posts.json',\n",
    "                   headers = myheaders,\n",
    "                   data = '{\"clientId\":\"androidapp\"}',\n",
    "#                    proxies = {'all' : 'socks5://{}'.format('45.94.47.108:8152')}\n",
    "                  )"
   ]
  },
  {
   "cell_type": "code",
   "execution_count": null,
   "id": "01116a0f",
   "metadata": {},
   "outputs": [],
   "source": []
  },
  {
   "cell_type": "markdown",
   "id": "dce5d876",
   "metadata": {},
   "source": [
    "## Get links to all posts"
   ]
  },
  {
   "cell_type": "code",
   "execution_count": 9,
   "id": "8a17eb8b",
   "metadata": {},
   "outputs": [],
   "source": [
    "url = \"https://prosto.rabota.ru/category/news\"\n",
    "headers = {\"User-Agent\" : \"Mozilla/5.0 (X11; Linux x86_64) AppleWebKit/537.36 (KHTML, like Gecko) Chrome/105.0.0.0 Safari/537.36\"}"
   ]
  },
  {
   "cell_type": "code",
   "execution_count": 155,
   "id": "4b8ccb56",
   "metadata": {},
   "outputs": [],
   "source": [
    "chrome_options = ChromeOptions()\n",
    "#chrome_options.add_argument(\"--headless\")\n",
    "driver = webdriver.Chrome('chromedriver', options=chrome_options)"
   ]
  },
  {
   "cell_type": "code",
   "execution_count": 12,
   "id": "291379f4",
   "metadata": {},
   "outputs": [],
   "source": [
    "driver.get(url)"
   ]
  },
  {
   "cell_type": "code",
   "execution_count": 59,
   "id": "bd29e8f9",
   "metadata": {},
   "outputs": [
    {
     "name": "stderr",
     "output_type": "stream",
     "text": [
      "100%|█████████████████████████████████████████| 100/100 [11:29<00:00,  6.89s/it]\n"
     ]
    }
   ],
   "source": [
    "for i in tqdm(range(100)):\n",
    "    driver.find_element_by_tag_name('footer').find_element_by_tag_name('button').click()\n",
    "    time.sleep(1)"
   ]
  },
  {
   "cell_type": "code",
   "execution_count": 60,
   "id": "bfc4215c",
   "metadata": {},
   "outputs": [],
   "source": [
    "x = driver.find_elements_by_class_name('post-snippet-content__title')"
   ]
  },
  {
   "cell_type": "code",
   "execution_count": 61,
   "id": "b3d757a9",
   "metadata": {},
   "outputs": [
    {
     "data": {
      "text/plain": [
       "1379"
      ]
     },
     "execution_count": 61,
     "metadata": {},
     "output_type": "execute_result"
    }
   ],
   "source": [
    "len(x)"
   ]
  },
  {
   "cell_type": "code",
   "execution_count": 63,
   "id": "25cfcab7",
   "metadata": {},
   "outputs": [
    {
     "name": "stderr",
     "output_type": "stream",
     "text": [
      "100%|███████████████████████████████████████| 1379/1379 [02:56<00:00,  7.83it/s]\n"
     ]
    }
   ],
   "source": [
    "links = []\n",
    "for el in tqdm(x):\n",
    "    links.append(el.find_element_by_tag_name('a').get_attribute('href'))"
   ]
  },
  {
   "cell_type": "code",
   "execution_count": 64,
   "id": "63f92659",
   "metadata": {},
   "outputs": [
    {
     "data": {
      "text/plain": [
       "['https://prosto.rabota.ru/post/putin-osvobodil-ot-mobilizacii-studentov-negosudarstvennyh-vuzov',\n",
       " 'https://prosto.rabota.ru/post/rossiyane-schitayut-chto-uchitelya-dolzhny-poluchat-70-120-tysyach-v-mesyac',\n",
       " 'https://prosto.rabota.ru/post/vrachi-i-kosmonavty-samye-slozhnye-professii-po-mneniyu-rossiyan',\n",
       " 'https://prosto.rabota.ru/post/sotrudniki-it-kompanij-isklyuchennyh-iz-reestra-lishatsya-otsrochki-ot-mobilizacii',\n",
       " 'https://prosto.rabota.ru/post/rabota-ru-preduprezhdaet-o-moshennikah',\n",
       " 'https://prosto.rabota.ru/post/rabotnikam-malogo-biznesa-dadut-kratkovremennye-otsrochki',\n",
       " 'https://prosto.rabota.ru/post/sotrudniki-tin-koff-podali-v-sud-na-bank',\n",
       " 'https://prosto.rabota.ru/post/nakopleniya-sokratilis-u-kazhdogo-pyatogo-rossiyanina-i-kazhdogo-chetvertogo-muzhchiny',\n",
       " 'https://prosto.rabota.ru/post/tret-rossijskih-kompanij-ishet-bron-dlya-sotrudnikov',\n",
       " 'https://prosto.rabota.ru/post/apple-relocirovala-bol-shinstvo-rossijskih-sotrudnikov-v-kirgiziyu']"
      ]
     },
     "execution_count": 64,
     "metadata": {},
     "output_type": "execute_result"
    }
   ],
   "source": [
    "links[:10]"
   ]
  },
  {
   "cell_type": "code",
   "execution_count": 66,
   "id": "777dfc08",
   "metadata": {},
   "outputs": [],
   "source": [
    "with open('post_likns.pk', 'wb') as f:\n",
    "    pickle.dump(links, f)"
   ]
  },
  {
   "cell_type": "markdown",
   "id": "f180839a",
   "metadata": {},
   "source": [
    "## Parse posts text"
   ]
  },
  {
   "cell_type": "code",
   "execution_count": 67,
   "id": "ebef01c9",
   "metadata": {},
   "outputs": [],
   "source": [
    "with open('post_likns.pk', 'rb') as f:\n",
    "    links = pickle.load(f)"
   ]
  },
  {
   "cell_type": "code",
   "execution_count": 204,
   "id": "1836576d",
   "metadata": {},
   "outputs": [
    {
     "data": {
      "text/plain": [
       "1379"
      ]
     },
     "execution_count": 204,
     "metadata": {},
     "output_type": "execute_result"
    }
   ],
   "source": [
    "len(links)"
   ]
  },
  {
   "cell_type": "code",
   "execution_count": 206,
   "id": "f46a0d33",
   "metadata": {},
   "outputs": [
    {
     "name": "stderr",
     "output_type": "stream",
     "text": [
      "100%|█████████████████████████████████████| 1379/1379 [1:17:32<00:00,  3.37s/it]\n"
     ]
    }
   ],
   "source": [
    "res = []\n",
    "for link in tqdm(links):\n",
    "    driver.get(link)\n",
    "    time.sleep(0.5)\n",
    "    vacancy = driver.find_elements_by_class_name('r-vacancy-preview-card__title')\n",
    "    vacancy_names = []\n",
    "    for el in vacancy:\n",
    "        vacancy_names.append(el.text)\n",
    "    vacancy_names = np.unique(vacancy_names).tolist()\n",
    "    \n",
    "    data = requests.get(link)\n",
    "    soup = BeautifulSoup(data.text)\n",
    "    text = ' '.join([el.text for el in soup.find_all('div', {'class': 'post'}) \n",
    "                     if ' Фото: iStock' not in el.text and 'Все\\xa0вакансии на\\xa0Работе.ру' not in el.text])\n",
    "    \n",
    "    res.append({'url': link, \n",
    "                'vacancies': vacancy_names,\n",
    "                'text': text})"
   ]
  },
  {
   "cell_type": "code",
   "execution_count": 207,
   "id": "e583eb44",
   "metadata": {},
   "outputs": [
    {
     "data": {
      "text/html": [
       "<div>\n",
       "<style scoped>\n",
       "    .dataframe tbody tr th:only-of-type {\n",
       "        vertical-align: middle;\n",
       "    }\n",
       "\n",
       "    .dataframe tbody tr th {\n",
       "        vertical-align: top;\n",
       "    }\n",
       "\n",
       "    .dataframe thead th {\n",
       "        text-align: right;\n",
       "    }\n",
       "</style>\n",
       "<table border=\"1\" class=\"dataframe\">\n",
       "  <thead>\n",
       "    <tr style=\"text-align: right;\">\n",
       "      <th></th>\n",
       "      <th>url</th>\n",
       "      <th>vacancies</th>\n",
       "      <th>text</th>\n",
       "    </tr>\n",
       "  </thead>\n",
       "  <tbody>\n",
       "    <tr>\n",
       "      <th>0</th>\n",
       "      <td>https://prosto.rabota.ru/post/putin-osvobodil-...</td>\n",
       "      <td>[Водитель-курьер на личном автомобиле (м. Праж...</td>\n",
       "      <td>Президент РФ Владимир Путин подписал указ, ра...</td>\n",
       "    </tr>\n",
       "    <tr>\n",
       "      <th>1</th>\n",
       "      <td>https://prosto.rabota.ru/post/rossiyane-schita...</td>\n",
       "      <td>[Водитель-курьер на личном автомобиле (м. Праж...</td>\n",
       "      <td>Сервис Работа.ру узнал у наших соотечественни...</td>\n",
       "    </tr>\n",
       "    <tr>\n",
       "      <th>2</th>\n",
       "      <td>https://prosto.rabota.ru/post/vrachi-i-kosmona...</td>\n",
       "      <td>[Водитель-курьер на личном автомобиле (м. Праж...</td>\n",
       "      <td>Сервис Работа.ру опросил наших соотечественни...</td>\n",
       "    </tr>\n",
       "    <tr>\n",
       "      <th>3</th>\n",
       "      <td>https://prosto.rabota.ru/post/sotrudniki-it-ko...</td>\n",
       "      <td>[Водитель-курьер на личном автомобиле (м. Праж...</td>\n",
       "      <td>Глава Минцифры РФ Максут Шадаев напомнил, что...</td>\n",
       "    </tr>\n",
       "    <tr>\n",
       "      <th>4</th>\n",
       "      <td>https://prosto.rabota.ru/post/rabota-ru-predup...</td>\n",
       "      <td>[]</td>\n",
       "      <td>Сервис Работа.ру получает сообщения о злоумыш...</td>\n",
       "    </tr>\n",
       "  </tbody>\n",
       "</table>\n",
       "</div>"
      ],
      "text/plain": [
       "                                                 url  \\\n",
       "0  https://prosto.rabota.ru/post/putin-osvobodil-...   \n",
       "1  https://prosto.rabota.ru/post/rossiyane-schita...   \n",
       "2  https://prosto.rabota.ru/post/vrachi-i-kosmona...   \n",
       "3  https://prosto.rabota.ru/post/sotrudniki-it-ko...   \n",
       "4  https://prosto.rabota.ru/post/rabota-ru-predup...   \n",
       "\n",
       "                                           vacancies  \\\n",
       "0  [Водитель-курьер на личном автомобиле (м. Праж...   \n",
       "1  [Водитель-курьер на личном автомобиле (м. Праж...   \n",
       "2  [Водитель-курьер на личном автомобиле (м. Праж...   \n",
       "3  [Водитель-курьер на личном автомобиле (м. Праж...   \n",
       "4                                                 []   \n",
       "\n",
       "                                                text  \n",
       "0   Президент РФ Владимир Путин подписал указ, ра...  \n",
       "1   Сервис Работа.ру узнал у наших соотечественни...  \n",
       "2   Сервис Работа.ру опросил наших соотечественни...  \n",
       "3   Глава Минцифры РФ Максут Шадаев напомнил, что...  \n",
       "4   Сервис Работа.ру получает сообщения о злоумыш...  "
      ]
     },
     "execution_count": 207,
     "metadata": {},
     "output_type": "execute_result"
    }
   ],
   "source": [
    "df = pd.DataFrame(res)\n",
    "df.to_pickle('news_vacancy.pkl')\n",
    "df.head()"
   ]
  },
  {
   "cell_type": "code",
   "execution_count": 208,
   "id": "076c5643",
   "metadata": {},
   "outputs": [
    {
     "data": {
      "text/plain": [
       "(1379, 3)"
      ]
     },
     "execution_count": 208,
     "metadata": {},
     "output_type": "execute_result"
    }
   ],
   "source": [
    "df.shape"
   ]
  },
  {
   "cell_type": "code",
   "execution_count": 202,
   "id": "58680065",
   "metadata": {},
   "outputs": [
    {
     "data": {
      "text/plain": [
       "'https://prosto.rabota.ru/post/mintrud-napomnil-chto-mobilizovannyh-nel-zya-uvolit'"
      ]
     },
     "execution_count": 202,
     "metadata": {},
     "output_type": "execute_result"
    }
   ],
   "source": [
    "df.iloc[-1]['url']"
   ]
  },
  {
   "cell_type": "code",
   "execution_count": 220,
   "id": "dac50253",
   "metadata": {},
   "outputs": [],
   "source": [
    "with open('news_vacancy.pickle', 'wb') as f:\n",
    "    pickle.dump(df, f)"
   ]
  },
  {
   "cell_type": "code",
   "execution_count": 209,
   "id": "cefa40d6",
   "metadata": {},
   "outputs": [
    {
     "data": {
      "text/html": [
       "<div>\n",
       "<style scoped>\n",
       "    .dataframe tbody tr th:only-of-type {\n",
       "        vertical-align: middle;\n",
       "    }\n",
       "\n",
       "    .dataframe tbody tr th {\n",
       "        vertical-align: top;\n",
       "    }\n",
       "\n",
       "    .dataframe thead th {\n",
       "        text-align: right;\n",
       "    }\n",
       "</style>\n",
       "<table border=\"1\" class=\"dataframe\">\n",
       "  <thead>\n",
       "    <tr style=\"text-align: right;\">\n",
       "      <th></th>\n",
       "      <th>url</th>\n",
       "      <th>vacancies</th>\n",
       "      <th>text</th>\n",
       "    </tr>\n",
       "  </thead>\n",
       "  <tbody>\n",
       "    <tr>\n",
       "      <th>927</th>\n",
       "      <td>https://prosto.rabota.ru/post/bolee-poloviny-r...</td>\n",
       "      <td>[]</td>\n",
       "      <td>ВЦИОМ опубликовал опрос об отношении граждан ...</td>\n",
       "    </tr>\n",
       "    <tr>\n",
       "      <th>1176</th>\n",
       "      <td>https://prosto.rabota.ru/post/zarplatu-v-2021-...</td>\n",
       "      <td>[]</td>\n",
       "      <td>В 2021 году индексация зарплаты будет обязате...</td>\n",
       "    </tr>\n",
       "    <tr>\n",
       "      <th>865</th>\n",
       "      <td>https://prosto.rabota.ru/post/vse-pensii-v-str...</td>\n",
       "      <td>[Водитель категории B, Водитель категории C, Н...</td>\n",
       "      <td>Начиная с сегодняшнего дня все пенсионные и н...</td>\n",
       "    </tr>\n",
       "    <tr>\n",
       "      <th>559</th>\n",
       "      <td>https://prosto.rabota.ru/post/polovina-rossiya...</td>\n",
       "      <td>[Водитель на служебном грузовом автомобиле, Во...</td>\n",
       "      <td>Исследование сервиса Работа.ру показало, что ...</td>\n",
       "    </tr>\n",
       "    <tr>\n",
       "      <th>923</th>\n",
       "      <td>https://prosto.rabota.ru/post/novogodnie-kanik...</td>\n",
       "      <td>[]</td>\n",
       "      <td>Россиян ждут десятидневные выходные в новый г...</td>\n",
       "    </tr>\n",
       "  </tbody>\n",
       "</table>\n",
       "</div>"
      ],
      "text/plain": [
       "                                                    url  \\\n",
       "927   https://prosto.rabota.ru/post/bolee-poloviny-r...   \n",
       "1176  https://prosto.rabota.ru/post/zarplatu-v-2021-...   \n",
       "865   https://prosto.rabota.ru/post/vse-pensii-v-str...   \n",
       "559   https://prosto.rabota.ru/post/polovina-rossiya...   \n",
       "923   https://prosto.rabota.ru/post/novogodnie-kanik...   \n",
       "\n",
       "                                              vacancies  \\\n",
       "927                                                  []   \n",
       "1176                                                 []   \n",
       "865   [Водитель категории B, Водитель категории C, Н...   \n",
       "559   [Водитель на служебном грузовом автомобиле, Во...   \n",
       "923                                                  []   \n",
       "\n",
       "                                                   text  \n",
       "927    ВЦИОМ опубликовал опрос об отношении граждан ...  \n",
       "1176   В 2021 году индексация зарплаты будет обязате...  \n",
       "865    Начиная с сегодняшнего дня все пенсионные и н...  \n",
       "559    Исследование сервиса Работа.ру показало, что ...  \n",
       "923    Россиян ждут десятидневные выходные в новый г...  "
      ]
     },
     "execution_count": 209,
     "metadata": {},
     "output_type": "execute_result"
    }
   ],
   "source": [
    "pd.read_pickle('news_vacancy.pkl').sample(5)"
   ]
  },
  {
   "cell_type": "code",
   "execution_count": 217,
   "id": "14c1d538",
   "metadata": {},
   "outputs": [
    {
     "data": {
      "text/plain": [
       "'https://prosto.rabota.ru/post/novogodnie-kanikuly-prodlyatsya-s-31-dekabrya-po-9-yanvarya'"
      ]
     },
     "execution_count": 217,
     "metadata": {},
     "output_type": "execute_result"
    }
   ],
   "source": [
    "df.iloc[923]['url']"
   ]
  },
  {
   "cell_type": "code",
   "execution_count": 214,
   "id": "400469b3",
   "metadata": {},
   "outputs": [
    {
     "data": {
      "text/plain": [
       "0     475\n",
       "9     401\n",
       "7     359\n",
       "8      60\n",
       "16     22\n",
       "6      17\n",
       "3      14\n",
       "2      10\n",
       "1       8\n",
       "5       5\n",
       "4       3\n",
       "15      2\n",
       "13      1\n",
       "14      1\n",
       "10      1\n",
       "Name: vacancies, dtype: int64"
      ]
     },
     "execution_count": 214,
     "metadata": {},
     "output_type": "execute_result"
    }
   ],
   "source": [
    "df['vacancies'].apply(lambda x: len(x)).value_counts()"
   ]
  },
  {
   "cell_type": "code",
   "execution_count": null,
   "id": "dd7b7999",
   "metadata": {},
   "outputs": [],
   "source": []
  }
 ],
 "metadata": {
  "kernelspec": {
   "display_name": "Python 3 (ipykernel)",
   "language": "python",
   "name": "python3"
  },
  "language_info": {
   "codemirror_mode": {
    "name": "ipython",
    "version": 3
   },
   "file_extension": ".py",
   "mimetype": "text/x-python",
   "name": "python",
   "nbconvert_exporter": "python",
   "pygments_lexer": "ipython3",
   "version": "3.9.5"
  }
 },
 "nbformat": 4,
 "nbformat_minor": 5
}
